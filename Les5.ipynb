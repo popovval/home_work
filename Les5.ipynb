{
 "cells": [
  {
   "cell_type": "markdown",
   "id": "58f1d5b9",
   "metadata": {},
   "source": [
    "# Задание 1"
   ]
  },
  {
   "cell_type": "code",
   "execution_count": 35,
   "id": "960d995d",
   "metadata": {},
   "outputs": [
    {
     "name": "stdout",
     "output_type": "stream",
     "text": [
      "1840e0b9d4 Продукты\n",
      "4e4f90fcfb Электроника\n",
      "afea8d72fc Электроника\n",
      "373a6055fe Бытовая техника\n",
      "9b2ab046f3 Электроника\n",
      "9f39d307c3 Электроника\n",
      "44edeffc91 Продукты\n",
      "704474fa2d Продукты\n",
      "1de31be403 Бытовая техника\n",
      "b71f36a5e4 Продукты\n",
      "79843a685a Продукты\n"
     ]
    },
    {
     "data": {
      "text/plain": [
       "<function TextIOWrapper.close()>"
      ]
     },
     "execution_count": 35,
     "metadata": {},
     "output_type": "execute_result"
    }
   ],
   "source": [
    "import json\n",
    "d = {}\n",
    "f = open('/Users/valentinpopov/Documents/HW/Python/Downloads/purchase_log.txt','r')\n",
    "f.readline()\n",
    "for line in f:\n",
    "    d[json.loads(line)['user_id']] = json.loads(line)['category']\n",
    "for i, k in enumerate(d.keys()):\n",
    "    print(k, d[k])\n",
    "    if i >=10:\n",
    "        break\n",
    "f.close"
   ]
  },
  {
   "cell_type": "markdown",
   "id": "6f4e33c3",
   "metadata": {},
   "source": [
    "# Задание 2"
   ]
  },
  {
   "cell_type": "code",
   "execution_count": 116,
   "id": "e691026e",
   "metadata": {},
   "outputs": [
    {
     "data": {
      "text/plain": [
       "<function TextIOWrapper.close()>"
      ]
     },
     "execution_count": 116,
     "metadata": {},
     "output_type": "execute_result"
    }
   ],
   "source": [
    "f2 = open('/Users/valentinpopov/Documents/HW/Python/Downloads/visit_log.csv','r')\n",
    "f2.readline()\n",
    "f3 = open('/Users/valentinpopov/Documents/HW/Python/Downloads/funnel.csv', 'w')\n",
    "f3.write(str(['user_id', 'source', 'category']) + '\\n')\n",
    "for i,line in enumerate(f2):\n",
    "    if d.get(line.strip().split(',')[0]) != None:\n",
    "        l = line.strip().split(',')\n",
    "        l.append(d.get(line.strip().split(',')[0]))\n",
    "        f3.write(str(l) + '\\n')\n",
    "f2.close\n",
    "f3.close"
   ]
  }
 ],
 "metadata": {
  "kernelspec": {
   "display_name": "Python 3",
   "language": "python",
   "name": "python3"
  },
  "language_info": {
   "codemirror_mode": {
    "name": "ipython",
    "version": 3
   },
   "file_extension": ".py",
   "mimetype": "text/x-python",
   "name": "python",
   "nbconvert_exporter": "python",
   "pygments_lexer": "ipython3",
   "version": "3.8.8"
  }
 },
 "nbformat": 4,
 "nbformat_minor": 5
}
