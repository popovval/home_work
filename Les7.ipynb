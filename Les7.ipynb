{
 "cells": [
  {
   "cell_type": "markdown",
   "id": "1c8de22b",
   "metadata": {},
   "source": [
    "## Задание 1+2"
   ]
  },
  {
   "cell_type": "code",
   "execution_count": 62,
   "id": "cfb61307",
   "metadata": {},
   "outputs": [
    {
     "name": "stdout",
     "output_type": "stream",
     "text": [
      "73.7663\n"
     ]
    }
   ],
   "source": [
    "class Rate:\n",
    "    def __init__(self, format_='value', diff=False):\n",
    "        self.format = format_\n",
    "        self.diff = diff\n",
    "    \n",
    "    def exchange_rates(self):\n",
    "        \"\"\"\n",
    "        Возвращает ответ сервиса с информацией о валютах в виде:\n",
    "        \n",
    "        {\n",
    "            'AMD': {\n",
    "                'CharCode': 'AMD',\n",
    "                'ID': 'R01060',\n",
    "                'Name': 'Армянских драмов',\n",
    "                'Nominal': 100,\n",
    "                'NumCode': '051',\n",
    "                'Previous': 14.103,\n",
    "                'Value': 14.0879\n",
    "                },\n",
    "            ...\n",
    "        }\n",
    "        \"\"\"\n",
    "        self.r = requests.get('https://www.cbr-xml-daily.ru/daily_json.js')\n",
    "        return self.r.json()['Valute']\n",
    "    \n",
    "    def make_format(self, currency):\n",
    "        \"\"\"\n",
    "        Возвращает информацию о валюте currency в двух вариантах:\n",
    "        - полная информация о валюте при self.format = 'full':\n",
    "        Rate('full').make_format('EUR')\n",
    "        {\n",
    "            'CharCode': 'EUR',\n",
    "            'ID': 'R01239',\n",
    "            'Name': 'Евро',\n",
    "            'Nominal': 1,\n",
    "            'NumCode': '978',\n",
    "            'Previous': 79.6765,\n",
    "            'Value': 79.4966\n",
    "        }\n",
    "        \n",
    "        Rate('value').make_format('EUR')\n",
    "        79.4966\n",
    "        \"\"\"\n",
    "        response = self.exchange_rates()\n",
    "        \n",
    "        if currency in response:\n",
    "            if self.format == 'full':\n",
    "                return response[currency]\n",
    "            \n",
    "            if self.format == 'value':\n",
    "                return response[currency]['Value']\n",
    "        \n",
    "        return 'Error'\n",
    "    \n",
    "    def eur(self):\n",
    "        \"\"\"Возвращает курс евро на сегодня в формате self.format\"\"\"\n",
    "        if self.diff == False:\n",
    "            return self.make_format('EUR')\n",
    "        else:\n",
    "            self.format = 'full'\n",
    "            return self.make_format('EUR')['Value'] - self.make_format('EUR')['Previous']\n",
    "    \n",
    "    def usd(self):\n",
    "        \"\"\"Возвращает курс доллара на сегодня в формате self.format\"\"\"\n",
    "        if self.diff == False:\n",
    "            return self.make_format('USD')\n",
    "        else:\n",
    "            self.format = 'full'\n",
    "            return self.make_format('USD')['Value'] - self.make_format('USD')['Previous']\n",
    "    \n",
    "    def brl(self):\n",
    "        \"\"\"Возвращает курс бразильского реала на сегодня в формате self.format\"\"\"\n",
    "        if self.diff == False:\n",
    "            return self.make_format('BRL')\n",
    "        else:\n",
    "            self.format = 'full'\n",
    "            return self.make_format('BRL')['Value'] - self.make_format('BRL')['Previous']\n",
    "    \n",
    "    def cur_max(self):\n",
    "        \"\"\"Возвращает максимальный курс\"\"\"\n",
    "        d = self.exchange_rates()\n",
    "        a = 0\n",
    "        for k, v in d.items():\n",
    "            if v['Value'] > a:\n",
    "                a = v['Value']\n",
    "                n = v['Name']\n",
    "        return n\n",
    "\n",
    "print(Rate(diff=True).usd())\n",
    "        "
   ]
  },
  {
   "cell_type": "markdown",
   "id": "3f0ed165",
   "metadata": {},
   "source": [
    "## Задание 3"
   ]
  },
  {
   "cell_type": "code",
   "execution_count": 108,
   "id": "09023625",
   "metadata": {},
   "outputs": [
    {
     "name": "stdout",
     "output_type": "stream",
     "text": [
      "Josh 5\n",
      "Josh 6\n",
      "Josh 7\n",
      "Josh 2\n"
     ]
    }
   ],
   "source": [
    "class Employee:\n",
    "    def __init__(self, name, seniority):\n",
    "        self.name = name\n",
    "        self.seniority = seniority\n",
    "        \n",
    "        self.grade = 1\n",
    "    \n",
    "    def grade_up(self):\n",
    "        \"\"\"Повышает уровень сотрудника\"\"\"\n",
    "        self.grade += 1\n",
    "    \n",
    "    def publish_grade(self):\n",
    "        \"\"\"Публикация результатов аккредитации сотрудников\"\"\"\n",
    "        print(self.name, self.grade)\n",
    "    \n",
    "    def check_if_it_is_time_for_upgrade(self):\n",
    "        pass\n",
    "\n",
    "class Designer(Employee):\n",
    "    def __init__(self, name, seniority, inter_award = 2):\n",
    "        super().__init__(name, seniority)\n",
    "        self.inter_award = inter_award\n",
    "        self.score = inter_award*2\n",
    "        \n",
    "    def score_up(self):\n",
    "        \"\"\"Увеличение балла дизайнера\"\"\"\n",
    "        self.score += 1\n",
    "        if self.score % 7 == 0:\n",
    "            self.grade_up()\n",
    "            \n",
    "    def publish_score(self):\n",
    "        \"\"\"Вывод балла\"\"\"\n",
    "        print(self.name, self.score)\n",
    "    \n",
    "Josh = Designer(name = 'Josh', seniority=1)\n",
    "\n",
    "for i in range(3):\n",
    "    Josh.score_up()\n",
    "    Josh.publish_score()\n",
    "    \n",
    "Josh.publish_grade()"
   ]
  }
 ],
 "metadata": {
  "kernelspec": {
   "display_name": "Python 3",
   "language": "python",
   "name": "python3"
  },
  "language_info": {
   "codemirror_mode": {
    "name": "ipython",
    "version": 3
   },
   "file_extension": ".py",
   "mimetype": "text/x-python",
   "name": "python",
   "nbconvert_exporter": "python",
   "pygments_lexer": "ipython3",
   "version": "3.8.8"
  }
 },
 "nbformat": 4,
 "nbformat_minor": 5
}
