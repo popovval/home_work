{
 "cells": [
  {
   "cell_type": "markdown",
   "id": "027ca804",
   "metadata": {},
   "source": [
    "## Задание 1"
   ]
  },
  {
   "cell_type": "code",
   "execution_count": 71,
   "id": "701b4304",
   "metadata": {},
   "outputs": [
    {
     "name": "stdout",
     "output_type": "stream",
     "text": [
      "The Moscow Times ['2002-10-02', 'Wednesday, October 2, 2002']\n",
      " The Guardian ['2013-10-11', 'Friday, 11.10.13']\n",
      " Daily News ['1977-08-18', 'Thursday, 18 August 1977']\n"
     ]
    }
   ],
   "source": [
    "from datetime import datetime\n",
    "s= 'The Moscow Times - Wednesday, October 2, 2002; The Guardian - Friday, 11.10.13; Daily News - Thursday, 18 August 1977'\n",
    "l= s.split(';')\n",
    "d = {}\n",
    "\n",
    "for v in l:\n",
    "    d[v.split(' - ')[0]] =  v.split(' - ')[1]\n",
    "\n",
    "for k, v in d.items():\n",
    "    try:\n",
    "        a = datetime.strptime(v, '%A, %B %d, %Y')\n",
    "    except:\n",
    "        try:\n",
    "            a = datetime.strptime(v, '%A, %d.%m.%y')\n",
    "        except:\n",
    "            a = datetime.strptime(v, '%A, %d %B %Y')\n",
    "    finally:\n",
    "        d[k]= [a.strftime('%Y-%m-%d'), v]\n",
    "    \n",
    "for k, v in d.items():\n",
    "    print(k, v)"
   ]
  },
  {
   "cell_type": "markdown",
   "id": "f60706c1",
   "metadata": {},
   "source": [
    "## Задание 2"
   ]
  },
  {
   "cell_type": "code",
   "execution_count": 57,
   "id": "d486c97f",
   "metadata": {},
   "outputs": [
    {
     "name": "stdout",
     "output_type": "stream",
     "text": [
      "2018-04-02 True\n",
      "2018-02-29 False\n",
      "2018-19-02 False\n"
     ]
    }
   ],
   "source": [
    "def str_to_date(s):\n",
    "    try:\n",
    "        d = datetime.strptime(s, '%Y-%m-%d')\n",
    "        return True\n",
    "    except:\n",
    "        return False\n",
    "\n",
    "stream = ['2018-04-02', '2018-02-29', '2018-19-02']\n",
    "\n",
    "for l in stream:\n",
    "    print(l, str_to_date(l))"
   ]
  },
  {
   "cell_type": "markdown",
   "id": "e98c9f4d",
   "metadata": {},
   "source": [
    "## Задание 3"
   ]
  },
  {
   "cell_type": "code",
   "execution_count": 70,
   "id": "097eb2e0",
   "metadata": {},
   "outputs": [
    {
     "name": "stdout",
     "output_type": "stream",
     "text": [
      "[]\n"
     ]
    }
   ],
   "source": [
    "from datetime import timedelta\n",
    "a = '2021-07-11'\n",
    "b = '2021-07-10'\n",
    "\n",
    "def date_list(s, e):\n",
    "    l = []\n",
    "    try:\n",
    "        d = datetime.strptime(s, '%Y-%m-%d')\n",
    "        while d <= datetime.strptime(e, '%Y-%m-%d'):\n",
    "            l.append(d.strftime('%Y-%m-%d'))\n",
    "            d = d + timedelta(days=1)\n",
    "    finally:\n",
    "        return l\n",
    "\n",
    "print(date_list(a, b))"
   ]
  }
 ],
 "metadata": {
  "kernelspec": {
   "display_name": "Python 3",
   "language": "python",
   "name": "python3"
  },
  "language_info": {
   "codemirror_mode": {
    "name": "ipython",
    "version": 3
   },
   "file_extension": ".py",
   "mimetype": "text/x-python",
   "name": "python",
   "nbconvert_exporter": "python",
   "pygments_lexer": "ipython3",
   "version": "3.8.8"
  }
 },
 "nbformat": 4,
 "nbformat_minor": 5
}
