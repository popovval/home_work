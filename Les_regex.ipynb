{
 "cells": [
  {
   "cell_type": "markdown",
   "id": "49170856",
   "metadata": {},
   "source": [
    "## Задание 1\n",
    "Напишите функцию, которая принимает на вход строку и проверяет является ли она валидным транспортным номером (1 буква, 3 цифры, 2 буквы, 2-3 цифры). Обратите внимание, что не все буквы кириллического алфавита используются в транспортных номерах.\n",
    "\n",
    "Если номер валиден, то функция должна возвращать отдельно номер и регион.\n",
    "\n",
    "Примеры работы программы:\n",
    "\n",
    "car_id = 'A222BC96’\n",
    "Результат: Номер A222BС валиден. Регион: 96\n",
    "\n",
    "car_id = 'АБ22ВВ193’\n",
    "Результат: Номер не валиден"
   ]
  },
  {
   "cell_type": "code",
   "execution_count": 92,
   "id": "da9cd5b0",
   "metadata": {},
   "outputs": [
    {
     "name": "stdout",
     "output_type": "stream",
     "text": [
      "Номер A222BC валиден. Регион: 96\n"
     ]
    }
   ],
   "source": [
    "import re as re\n",
    "car_id = 'A222BC96'\n",
    "car_number=re.match(r'[a-zA-Z]{1}[0-9]{3}[a-zA-Z]{2}[0-9]{2,3}', car_id)\n",
    "\n",
    "\n",
    "if car_number != None:\n",
    "    print('Номер',car_number.group()[0:6], 'валиден. Регион:', re.search(r'[0-9]{2,3}$', car_id).group(0))\n",
    "else:\n",
    "    print('Номер не валиден')"
   ]
  },
  {
   "cell_type": "markdown",
   "id": "68c69465",
   "metadata": {},
   "source": [
    "## Задание 2\n",
    "Напишите функцию, которая будет удалять все последовательные повторы слов из заданной строки при помощи регулярных выражений.\n",
    "\n",
    "Пример работы программы:\n",
    "\n",
    "some_string = ‘Напишите функцию функцию, которая будет будет будет будет удалять все все все все последовательные повторы слов из из из из заданной строки строки при помощи регулярных выражений.’\n",
    "\n",
    "Результат:\n",
    "Напишите функцию, которая будет удалять все последовательные повторы слов из заданной строки при помощи регулярных выражений."
   ]
  },
  {
   "cell_type": "code",
   "execution_count": 45,
   "id": "0e933340",
   "metadata": {},
   "outputs": [
    {
     "name": "stdout",
     "output_type": "stream",
     "text": [
      "Напишите функцию, которая будет удалять все последовательные повторы слов из заданной строки при помощи регулярных выражений.\n"
     ]
    }
   ],
   "source": [
    "def delete_dub(some_string):\n",
    "    import re as re\n",
    "    s = re.split(r'\\s|,\\s', some_string)\n",
    "    d = {}\n",
    "    for el in s:\n",
    "        if s.count(el) > 1 and el not in d:\n",
    "            d[el] = s.count(el)\n",
    "\n",
    "    for k, v in d.items():\n",
    "        some_string = some_string.replace(k + ' ', '', v-1)\n",
    "    return some_string\n",
    "    \n",
    "    \n",
    "some_string = 'Напишите функцию функцию, которая будет будет будет будет удалять все все все все последовательные повторы слов из из из из заданной строки строки при помощи регулярных выражений.'\n",
    "print(delete_dub(some_string))\n"
   ]
  },
  {
   "cell_type": "markdown",
   "id": "c512b025",
   "metadata": {},
   "source": [
    "## Задание 3\n",
    "Напишите функцию, которая будет возвращать акроним по переданной в нее строке со словами.\n",
    "\n",
    "Примеры работы программы:\n",
    "\n",
    "some_words = 'Информационные технологии’\n",
    "Результат: ИТ\n",
    "\n",
    "some_words = 'Near Field Communication’\n",
    "Результат: NFC"
   ]
  },
  {
   "cell_type": "code",
   "execution_count": 70,
   "id": "3a74b987",
   "metadata": {},
   "outputs": [
    {
     "name": "stdout",
     "output_type": "stream",
     "text": [
      "ИТ\n",
      "NFC\n"
     ]
    }
   ],
   "source": [
    "def acronym(some_words):\n",
    "    import re as re\n",
    "    s = ''\n",
    "    sub = re.findall(r'[A-Z]|[А-Я]|\\s[a-z]|\\s[а-я]', some_words)\n",
    "    for el in sub:\n",
    "        s = s + el.replace(' ', '').upper()\n",
    "    return s\n",
    "\n",
    "print(acronym('Информационные технологии'))\n",
    "print(acronym('Near Field Communication’'))"
   ]
  },
  {
   "cell_type": "markdown",
   "id": "2905b14d",
   "metadata": {},
   "source": [
    "## Задание 4\n",
    "Напишите функцию, которая будет принимать на вход список email-адресов и выводить их распределение по доменным зонам.\n",
    "\n",
    "Пример работы программы:\n",
    "\n",
    "emails = [‘test@gmail.com’, ‘xyz@test.in’, ‘test@ya.ru’, ‘xyz@mail.ru’, ‘xyz@ya.ru’, ‘xyz@gmail.com’]\n",
    "\n",
    "Результат:\n",
    "\n",
    "gmail.com: 2\n",
    "test.in: 1\n",
    "ya.ru: 2\n",
    "mail.ru: 1"
   ]
  },
  {
   "cell_type": "code",
   "execution_count": 106,
   "id": "540d108e",
   "metadata": {},
   "outputs": [
    {
     "name": "stdout",
     "output_type": "stream",
     "text": [
      "{'@gmail.com': 2, '@test.in': 1, '@ya.ru': 2, '@mail.ru': 1}\n"
     ]
    }
   ],
   "source": [
    "def email_domen(emails):\n",
    "    import re as re\n",
    "    a = []\n",
    "    d = {}\n",
    "    for el in emails:\n",
    "        a.append(re.search(r'@\\w+\\.\\w+$', el).group(0))\n",
    "    for el in a:\n",
    "        if el not in d.keys():\n",
    "            d[el] = a.count(el)\n",
    "    return d\n",
    "\n",
    "emails = ['test@gmail.com', 'xyz@test.in', 'test@ya.ru', 'xyz@mail.ru', 'xyz@ya.ru', 'xyz@gmail.com']\n",
    "print(email_domen(emails))"
   ]
  },
  {
   "cell_type": "markdown",
   "id": "1d2ed534",
   "metadata": {},
   "source": [
    "## Задание 5 (необязательное)\n",
    "\n",
    "Напишите функцию, которая будет подсчитывать сколько слов начинается на гласные, а сколько на согласные буквы в тексте (текст может быть написан как с использованием букв кириллицы, так и латиницы).\n",
    "\n",
    "Пример работы программы:\n",
    "\n",
    "some_text = ‘Эталонной реализацией Python является интерпретатор CPython, поддерживающий большинство активно используемых платформ. Он распространяется под свободной лицензией Python Software Foundation License, позволяющей использовать его без ограничений в любых приложениях, включая проприетарные.’\n",
    "Результат:\n",
    "\n",
    "Слов на гласные буквы: 9\n",
    "Слов на согласные буквы: 21"
   ]
  },
  {
   "cell_type": "code",
   "execution_count": 142,
   "id": "66f4e791",
   "metadata": {},
   "outputs": [
    {
     "name": "stdout",
     "output_type": "stream",
     "text": [
      "Слов на гласные буквы: 9\n",
      "Слов на гласные буквы: 22\n"
     ]
    }
   ],
   "source": [
    "some_text = \"\"\"Эталонной реализацией Python является интерпретатор CPython, поддерживающий\n",
    "большинство активно используемых платформ. Он распространяется под свободной лицензией Python Software Foundation License,\n",
    "позволяющей использовать его без ограничений в любых приложениях, включая проприетарные.\"\"\"\n",
    "\n",
    "print('Слов на гласные буквы:', len(re.findall(r'\\b[ауоыиэяюёеaeiouy]|[AEIOUYАУОЫИЭЯЮЁЕ]', some_text)))\n",
    "print('Слов на гласные буквы:', len(re.findall(r'\\b[bcdfghjklmnpqrstvwxyzбвгджзйклмнпрстфхцчшщ]|[BCDFGHJKLMNPQRSTVWXYZБВГДЖЗЙКЛМНПРСТФХЦЧШЩ]', some_text)))"
   ]
  }
 ],
 "metadata": {
  "kernelspec": {
   "display_name": "Python 3",
   "language": "python",
   "name": "python3"
  },
  "language_info": {
   "codemirror_mode": {
    "name": "ipython",
    "version": 3
   },
   "file_extension": ".py",
   "mimetype": "text/x-python",
   "name": "python",
   "nbconvert_exporter": "python",
   "pygments_lexer": "ipython3",
   "version": "3.8.8"
  }
 },
 "nbformat": 4,
 "nbformat_minor": 5
}
