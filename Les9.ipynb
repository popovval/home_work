{
 "cells": [
  {
   "cell_type": "markdown",
   "id": "6c1f2270",
   "metadata": {},
   "source": [
    "## Задание 1\n",
    "Определите какому фильму было выставлено больше всего оценок 5.0."
   ]
  },
  {
   "cell_type": "code",
   "execution_count": 6,
   "id": "1ebcac75",
   "metadata": {
    "scrolled": true
   },
   "outputs": [
    {
     "data": {
      "text/html": [
       "<div>\n",
       "<style scoped>\n",
       "    .dataframe tbody tr th:only-of-type {\n",
       "        vertical-align: middle;\n",
       "    }\n",
       "\n",
       "    .dataframe tbody tr th {\n",
       "        vertical-align: top;\n",
       "    }\n",
       "\n",
       "    .dataframe thead th {\n",
       "        text-align: right;\n",
       "    }\n",
       "</style>\n",
       "<table border=\"1\" class=\"dataframe\">\n",
       "  <thead>\n",
       "    <tr style=\"text-align: right;\">\n",
       "      <th></th>\n",
       "      <th>movieId</th>\n",
       "      <th>title</th>\n",
       "      <th>genres</th>\n",
       "    </tr>\n",
       "  </thead>\n",
       "  <tbody>\n",
       "    <tr>\n",
       "      <th>0</th>\n",
       "      <td>1</td>\n",
       "      <td>Toy Story (1995)</td>\n",
       "      <td>Adventure|Animation|Children|Comedy|Fantasy</td>\n",
       "    </tr>\n",
       "    <tr>\n",
       "      <th>1</th>\n",
       "      <td>2</td>\n",
       "      <td>Jumanji (1995)</td>\n",
       "      <td>Adventure|Children|Fantasy</td>\n",
       "    </tr>\n",
       "    <tr>\n",
       "      <th>2</th>\n",
       "      <td>3</td>\n",
       "      <td>Grumpier Old Men (1995)</td>\n",
       "      <td>Comedy|Romance</td>\n",
       "    </tr>\n",
       "    <tr>\n",
       "      <th>3</th>\n",
       "      <td>4</td>\n",
       "      <td>Waiting to Exhale (1995)</td>\n",
       "      <td>Comedy|Drama|Romance</td>\n",
       "    </tr>\n",
       "    <tr>\n",
       "      <th>4</th>\n",
       "      <td>5</td>\n",
       "      <td>Father of the Bride Part II (1995)</td>\n",
       "      <td>Comedy</td>\n",
       "    </tr>\n",
       "  </tbody>\n",
       "</table>\n",
       "</div>"
      ],
      "text/plain": [
       "   movieId                               title  \\\n",
       "0        1                    Toy Story (1995)   \n",
       "1        2                      Jumanji (1995)   \n",
       "2        3             Grumpier Old Men (1995)   \n",
       "3        4            Waiting to Exhale (1995)   \n",
       "4        5  Father of the Bride Part II (1995)   \n",
       "\n",
       "                                        genres  \n",
       "0  Adventure|Animation|Children|Comedy|Fantasy  \n",
       "1                   Adventure|Children|Fantasy  \n",
       "2                               Comedy|Romance  \n",
       "3                         Comedy|Drama|Romance  \n",
       "4                                       Comedy  "
      ]
     },
     "execution_count": 6,
     "metadata": {},
     "output_type": "execute_result"
    }
   ],
   "source": [
    "import pandas as pd\n",
    "ratings = pd.read_csv('/Users/valentinpopov/Downloads/ml-25m/ratings.csv')\n",
    "movies = pd.read_csv('/Users/valentinpopov/Downloads/ml-25m/movies.csv')"
   ]
  },
  {
   "cell_type": "code",
   "execution_count": 52,
   "id": "24202c7a",
   "metadata": {},
   "outputs": [
    {
     "data": {
      "text/html": [
       "<div>\n",
       "<style scoped>\n",
       "    .dataframe tbody tr th:only-of-type {\n",
       "        vertical-align: middle;\n",
       "    }\n",
       "\n",
       "    .dataframe tbody tr th {\n",
       "        vertical-align: top;\n",
       "    }\n",
       "\n",
       "    .dataframe thead th {\n",
       "        text-align: right;\n",
       "    }\n",
       "</style>\n",
       "<table border=\"1\" class=\"dataframe\">\n",
       "  <thead>\n",
       "    <tr style=\"text-align: right;\">\n",
       "      <th></th>\n",
       "      <th>movieId</th>\n",
       "      <th>title</th>\n",
       "      <th>genres</th>\n",
       "    </tr>\n",
       "  </thead>\n",
       "  <tbody>\n",
       "    <tr>\n",
       "      <th>314</th>\n",
       "      <td>318</td>\n",
       "      <td>Shawshank Redemption, The (1994)</td>\n",
       "      <td>Crime|Drama</td>\n",
       "    </tr>\n",
       "  </tbody>\n",
       "</table>\n",
       "</div>"
      ],
      "text/plain": [
       "     movieId                             title       genres\n",
       "314      318  Shawshank Redemption, The (1994)  Crime|Drama"
      ]
     },
     "execution_count": 52,
     "metadata": {},
     "output_type": "execute_result"
    }
   ],
   "source": [
    "movies[movies.movieId == ratings[ratings.rating == 5]['movieId'].value_counts().index[0]]"
   ]
  },
  {
   "cell_type": "markdown",
   "id": "e0874f72",
   "metadata": {},
   "source": [
    "## Задание 2\n",
    "По данным файла power.csv посчитайте суммарное потребление стран Прибалтики (Латвия, Литва и Эстония) категорий 4, 12 и 21 за период с 2005 по 2010 года. Не учитывайте в расчетах отрицательные значения quantity."
   ]
  },
  {
   "cell_type": "code",
   "execution_count": 34,
   "id": "0b823176",
   "metadata": {},
   "outputs": [],
   "source": [
    "import pandas as pd\n",
    "power = pd.read_csv('/Users/valentinpopov/Downloads/10._Основы_pandas/power.csv')"
   ]
  },
  {
   "cell_type": "code",
   "execution_count": 39,
   "id": "3899b5cc",
   "metadata": {},
   "outputs": [
    {
     "data": {
      "text/plain": [
       "240580.0"
      ]
     },
     "execution_count": 39,
     "metadata": {},
     "output_type": "execute_result"
    }
   ],
   "source": [
    "power = power[(power['country'].isin(['Latvia', 'Lithuania', 'Estonia'])) & (power['quantity'] > 0)]\n",
    "power[(power['category'].isin([4, 12, 21])) & (power['year'] >= 2005) & (power['year'] <= 2010)]['quantity'].sum()"
   ]
  },
  {
   "cell_type": "markdown",
   "id": "03b77376",
   "metadata": {},
   "source": [
    "## Задание 3"
   ]
  },
  {
   "cell_type": "code",
   "execution_count": 74,
   "id": "1032bcb3",
   "metadata": {
    "scrolled": true
   },
   "outputs": [],
   "source": [
    "link = 'https://gb2.dzo44.ru/kontakty'\n",
    "data = pd.read_html(link, skiprows=1)[0]"
   ]
  },
  {
   "cell_type": "code",
   "execution_count": 80,
   "id": "233f72cc",
   "metadata": {},
   "outputs": [
    {
     "data": {
      "text/html": [
       "<div>\n",
       "<style scoped>\n",
       "    .dataframe tbody tr th:only-of-type {\n",
       "        vertical-align: middle;\n",
       "    }\n",
       "\n",
       "    .dataframe tbody tr th {\n",
       "        vertical-align: top;\n",
       "    }\n",
       "\n",
       "    .dataframe thead th {\n",
       "        text-align: right;\n",
       "    }\n",
       "</style>\n",
       "<table border=\"1\" class=\"dataframe\">\n",
       "  <thead>\n",
       "    <tr style=\"text-align: right;\">\n",
       "      <th></th>\n",
       "      <th>position</th>\n",
       "      <th>FIO</th>\n",
       "      <th>Phone</th>\n",
       "    </tr>\n",
       "  </thead>\n",
       "  <tbody>\n",
       "    <tr>\n",
       "      <th>0</th>\n",
       "      <td>Главный врач</td>\n",
       "      <td>Храмов Владимир Александрович</td>\n",
       "      <td>31-27-49; 31-79-59 (факс)</td>\n",
       "    </tr>\n",
       "    <tr>\n",
       "      <th>1</th>\n",
       "      <td>Заместители главного врача по медицинской части</td>\n",
       "      <td>Окорокова Людмила Вячеславовна</td>\n",
       "      <td>31-37-88</td>\n",
       "    </tr>\n",
       "    <tr>\n",
       "      <th>2</th>\n",
       "      <td>Заместители главного врача по хирургической по...</td>\n",
       "      <td>Жаворонков Дмитрий Анатольевич</td>\n",
       "      <td>31-26-75</td>\n",
       "    </tr>\n",
       "    <tr>\n",
       "      <th>3</th>\n",
       "      <td>Заместители главного врача по поликлиническому...</td>\n",
       "      <td>Кулишенко Наталия Львовна</td>\n",
       "      <td>31-30-32</td>\n",
       "    </tr>\n",
       "    <tr>\n",
       "      <th>4</th>\n",
       "      <td>Заместитель главного врача по экономическим во...</td>\n",
       "      <td>Башмакова Екатерина Валерьевна</td>\n",
       "      <td>31-84-13</td>\n",
       "    </tr>\n",
       "    <tr>\n",
       "      <th>5</th>\n",
       "      <td>Главная медицинская сестра</td>\n",
       "      <td>Щенкова Надежда Александровна</td>\n",
       "      <td>31-13-04</td>\n",
       "    </tr>\n",
       "    <tr>\n",
       "      <th>6</th>\n",
       "      <td>Главный бухгалтер</td>\n",
       "      <td>Соболева Елена Вячеславовна</td>\n",
       "      <td>31-35-74; 31-30-71</td>\n",
       "    </tr>\n",
       "    <tr>\n",
       "      <th>7</th>\n",
       "      <td>Начальник отдела кадров</td>\n",
       "      <td>Дмитриева Ирина Витальевна</td>\n",
       "      <td>31-83-33</td>\n",
       "    </tr>\n",
       "  </tbody>\n",
       "</table>\n",
       "</div>"
      ],
      "text/plain": [
       "                                            position  \\\n",
       "0                                       Главный врач   \n",
       "1    Заместители главного врача по медицинской части   \n",
       "2  Заместители главного врача по хирургической по...   \n",
       "3  Заместители главного врача по поликлиническому...   \n",
       "4  Заместитель главного врача по экономическим во...   \n",
       "5                         Главная медицинская сестра   \n",
       "6                                  Главный бухгалтер   \n",
       "7                            Начальник отдела кадров   \n",
       "\n",
       "                              FIO                      Phone  \n",
       "0   Храмов Владимир Александрович  31-27-49; 31-79-59 (факс)  \n",
       "1  Окорокова Людмила Вячеславовна                   31-37-88  \n",
       "2  Жаворонков Дмитрий Анатольевич                   31-26-75  \n",
       "3       Кулишенко Наталия Львовна                   31-30-32  \n",
       "4  Башмакова Екатерина Валерьевна                   31-84-13  \n",
       "5   Щенкова Надежда Александровна                   31-13-04  \n",
       "6     Соболева Елена Вячеславовна         31-35-74; 31-30-71  \n",
       "7      Дмитриева Ирина Витальевна                   31-83-33  "
      ]
     },
     "execution_count": 80,
     "metadata": {},
     "output_type": "execute_result"
    }
   ],
   "source": [
    "data = data.rename(columns = {0:'position', 1:'fio', 2:'phone'})\n",
    "data"
   ]
  }
 ],
 "metadata": {
  "kernelspec": {
   "display_name": "Python 3",
   "language": "python",
   "name": "python3"
  },
  "language_info": {
   "codemirror_mode": {
    "name": "ipython",
    "version": 3
   },
   "file_extension": ".py",
   "mimetype": "text/x-python",
   "name": "python",
   "nbconvert_exporter": "python",
   "pygments_lexer": "ipython3",
   "version": "3.8.8"
  }
 },
 "nbformat": 4,
 "nbformat_minor": 5
}
