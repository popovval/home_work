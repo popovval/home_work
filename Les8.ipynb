{
 "cells": [
  {
   "cell_type": "markdown",
   "id": "0a20c142",
   "metadata": {},
   "source": [
    "## Задание 1\n",
    "Создайте numpy array с элементами от числа N до 0 (например, для N = 10 это будет array([9, 8, 7, 6, 5, 4, 3, 2, 1, 0]))."
   ]
  },
  {
   "cell_type": "code",
   "execution_count": 73,
   "id": "9ebcbc7d",
   "metadata": {},
   "outputs": [
    {
     "name": "stdout",
     "output_type": "stream",
     "text": [
      "[9 8 7 6 5 4 3 2 1 0] [9 8 7 6 5 4 3 2 1 0]\n"
     ]
    }
   ],
   "source": [
    "import numpy as np\n",
    "n = 10\n",
    "a = np.sort(np.arange(n))[::-1]\n",
    "\n",
    "b = np.arange(n-1, -1, -1)\n",
    "print(a, b)\n"
   ]
  },
  {
   "cell_type": "markdown",
   "id": "6fe1d2e4",
   "metadata": {},
   "source": [
    "## Задание 2\n",
    "Создайте диагональную матрицу с элементами от N до 0. Посчитайте сумму ее значений на диагонали."
   ]
  },
  {
   "cell_type": "code",
   "execution_count": 91,
   "id": "2125a625",
   "metadata": {},
   "outputs": [
    {
     "name": "stdout",
     "output_type": "stream",
     "text": [
      "[[9 0 0 0 0 0 0 0 0 0]\n",
      " [0 8 0 0 0 0 0 0 0 0]\n",
      " [0 0 7 0 0 0 0 0 0 0]\n",
      " [0 0 0 6 0 0 0 0 0 0]\n",
      " [0 0 0 0 5 0 0 0 0 0]\n",
      " [0 0 0 0 0 4 0 0 0 0]\n",
      " [0 0 0 0 0 0 3 0 0 0]\n",
      " [0 0 0 0 0 0 0 2 0 0]\n",
      " [0 0 0 0 0 0 0 0 1 0]\n",
      " [0 0 0 0 0 0 0 0 0 0]]\n",
      "Вариант А 45 \n",
      "Вариант Б 45\n"
     ]
    }
   ],
   "source": [
    "n = 10\n",
    "mat = np.diag(np.arange(n-1, -1, -1))\n",
    "s = 0\n",
    "\n",
    "for i in range(len(mat)):\n",
    "    for j in range(len(mat[i])):\n",
    "        if i == j:\n",
    "            s = s + mat[i][j]\n",
    "print(mat)\n",
    "print('Вариант А', np.sum(mat), '\\nВариант Б', np.sum(mat))"
   ]
  },
  {
   "cell_type": "markdown",
   "id": "071fa0d0",
   "metadata": {},
   "source": [
    "## Задание 3\n",
    "Решите систему уравнений:\n",
    "\n",
    "4x + 2y + z = 4\n",
    "\n",
    "x + 3y = 12\n",
    "\n",
    "5y + 4z = -3"
   ]
  },
  {
   "cell_type": "code",
   "execution_count": 220,
   "id": "2243de95",
   "metadata": {},
   "outputs": [
    {
     "name": "stdout",
     "output_type": "stream",
     "text": [
      "[[ 4  2  1  4]\n",
      " [ 1  3  0 12]\n",
      " [ 0  5  4 -3]]\n",
      "0.46666666666666695 3.8444444444444463 -5.555555555555554\n"
     ]
    }
   ],
   "source": [
    "s = np.array([[4, 2, 1, 4], [1, 3, 0, 12], [0, 5, 4, -3]])\n",
    "\n",
    "d = np.linalg.det(s[:, 0:3])\n",
    "\n",
    "if d != 0:\n",
    "    x = np.linalg.det(np.column_stack((s[:, -1:], s[:, 1:3]))) / d\n",
    "    y = np.linalg.det(np.column_stack((s[:,0:1],s[:, -1:], s[:, 2:3]))) / d\n",
    "    z = np.linalg.det(np.column_stack((s[:,0:2],s[:, -1:]))) / d\n",
    "print(x, y, z)"
   ]
  },
  {
   "cell_type": "markdown",
   "id": "7f991627",
   "metadata": {},
   "source": [
    "## Задание 4"
   ]
  },
  {
   "cell_type": "code",
   "execution_count": 282,
   "id": "ffdd9637",
   "metadata": {},
   "outputs": [
    {
     "data": {
      "text/plain": [
       "7"
      ]
     },
     "execution_count": 282,
     "metadata": {},
     "output_type": "execute_result"
    }
   ],
   "source": [
    "users_stats = np.array(\n",
    "    [\n",
    "        [2, 1, 0, 0, 0, 0],\n",
    "        [1, 1, 2, 1, 0, 0],\n",
    "        [2, 0, 1, 0, 0, 0],\n",
    "        [1, 1, 2, 1, 0, 1],\n",
    "        [0, 0, 1, 2, 0, 0],\n",
    "        [0, 0, 0, 0, 0, 5],\n",
    "        [1, 0, 0, 0, 0, 0],\n",
    "        [0, 1, 1, 0, 0, 0],\n",
    "        [0, 0, 0, 1, 1, 3],\n",
    "        [1, 0, 0, 2, 1, 4]\n",
    "    ]\n",
    ")\n",
    "\n",
    "next_user_stats = np.array([0, 1, 2, 0, 0, 0])\n",
    "\n",
    "c = np.array([])\n",
    "\n",
    "def cs_cos(a, b):\n",
    "    return np.dot(a, b) / (np.linalg.norm(a) * np.linalg.norm(b))\n",
    "\n",
    "for i in users_stats:\n",
    "    c = np.append(c, cs_cos(i, next_user_stats))\n",
    "\n",
    "np.argmax(c)"
   ]
  }
 ],
 "metadata": {
  "kernelspec": {
   "display_name": "Python 3",
   "language": "python",
   "name": "python3"
  },
  "language_info": {
   "codemirror_mode": {
    "name": "ipython",
    "version": 3
   },
   "file_extension": ".py",
   "mimetype": "text/x-python",
   "name": "python",
   "nbconvert_exporter": "python",
   "pygments_lexer": "ipython3",
   "version": "3.8.8"
  }
 },
 "nbformat": 4,
 "nbformat_minor": 5
}
